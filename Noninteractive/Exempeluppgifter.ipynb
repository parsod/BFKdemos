{
 "cells": [
  {
   "cell_type": "code",
   "execution_count": 2,
   "metadata": {},
   "outputs": [],
   "source": [
    "from math import *\n",
    "from numpy import *\n",
    "import matplotlib.pyplot as plt\n",
    "import ipywidgets as widgets\n",
    "%matplotlib notebook\n",
    "import scipy\n",
    "import scipy.optimize\n",
    "from scipy.optimize import fsolve\n",
    "atm=1.01325E5\n",
    "torr=atm/760.0\n",
    "R=8.3145\n",
    "g=9.807\n",
    "NA=6.022e23\n",
    "def tok(x): return x+273.15\n",
    "cal=4.184\n",
    "kcal=1000*cal\n"
   ]
  },
  {
   "cell_type": "code",
   "execution_count": 2,
   "metadata": {},
   "outputs": [
    {
     "name": "stdout",
     "output_type": "stream",
     "text": [
      "446.2142715 2.702902382263196 -359.65607377177184\n",
      "2.754543618072241 0.5053090316563867 3.2598526497286278 kPa 0.15500977680646152\n",
      "7.38905609893065\n"
     ]
    },
    {
     "data": {
      "image/png": "[encoded data removed]",
      "text/plain": [
       "<Figure size 432x288 with 1 Axes>"
      ]
     },
     "metadata": {
      "needs_background": "light"
     },
     "output_type": "display_data"
    }
   ],
   "source": [
    "#Exempel Ö1\n",
    "#Vid 25 gC bildar A och B en regulär lösning med chi=2. Ångtrycken över de rena ämnena är 3 kPa och 1 kPa.\n",
    "#a) Beräkna Gibbs blandningsenergi för 1 mol lösning med xB=0.1.\n",
    "#b) Beräkna totala ångtrycket och ångans sammansättning över denna lösning.\n",
    "#c) Beräkna Henrys konstant för B löst i A.\n",
    "\n",
    "chi=2\n",
    "pAs=3\n",
    "pBs=1\n",
    "xB=0.1\n",
    "xA=1-xB\n",
    "n=1\n",
    "T=tok(25)\n",
    "DU=n*R*T*chi*xA*xB\n",
    "DS=-n*R*(xA*log(xA)+xB*log(xB))\n",
    "F=DU-T*DS\n",
    "print(DU,DS,F)\n",
    "\n",
    "pA=pAs*xA*exp(chi*xB**2)\n",
    "pB=pBs*xB*exp(chi*xA**2)\n",
    "print(pA,pB,pA+pB,'kPa',pB/(pA+pB))\n",
    "\n",
    "kH=pBs*exp(chi)\n",
    "print(kH)\n",
    "\n",
    "xB=linspace(0,1)\n",
    "plt.xlim(0,1)\n",
    "plt.ylim(0,8)\n",
    "plt.plot(xB,pBs*xB*exp(chi*(1-xB)**2),label='pB')\n",
    "plt.plot(xB,pAs*(1-xB)*exp(chi*xB**2),label='pA')\n",
    "plt.plot(xB,pBs*xB*exp(chi*(1-xB)**2)+pAs*(1-xB)*exp(chi*xB**2),label='ptot')\n",
    "plt.plot(xB,kH*xB,linestyle='dashed',label='Henrys lag')\n",
    "_=plt.legend()"
   ]
  },
  {
   "cell_type": "code",
   "execution_count": 9,
   "metadata": {},
   "outputs": [
    {
     "name": "stdout",
     "output_type": "stream",
     "text": [
      "296.059985516909 0.0006755387751938444 0.0006755387751938444 0.03715463263566144\n",
      "0.9901889111204734 1465.776573426655\n"
     ]
    }
   ],
   "source": [
    "#Exempel Ö2\n",
    "#Ett ämne B bildar en regulär lösning med vatten, där  chi=7.3\n",
    "#a) Vad är lösligheten för B i vatten uttryckt i M?\n",
    "#b) Vad blir aktivitetsfaktorn för en mättad vattenlösning av B, inom var och en av följande konventioner:\n",
    "#  - standardtillståndet är rent ämne (solvent convention)\n",
    "#  - standardtillståndet är idealt utspädd lösning och molbråk används (solute convention)\n",
    "\n",
    "chi=7.3\n",
    "T=tok(25)\n",
    "pBs=0.2 #bar\n",
    "\n",
    "#Sätt 1: Via Henrys konstant\n",
    "kH=pBs*exp(chi)\n",
    "xmax=pBs/kH\n",
    "\n",
    "#Sätt 2: Via Dmu0 för BiB -> BiW  (KBw = xmax)\n",
    "Dmu0=R*T*chi\n",
    "KBw=exp(-Dmu0/R/T)\n",
    "\n",
    "#Sätt 3: Via uttrycket för kemisk potential: mu=mu* + RT(ln x+chi(1-x)^2)\n",
    "xmax=exp(-chi)\n",
    "\n",
    "cmax=xmax*55\n",
    "\n",
    "print(kH,xmax,KBw,cmax)\n",
    "x=0.01/55\n",
    "x=xmax\n",
    "gamma0=exp(chi*x*(x-2))\n",
    "gamma1=exp(chi*(1-x)**2)\n",
    "print(gamma0,gamma1)"
   ]
  },
  {
   "cell_type": "code",
   "execution_count": 6,
   "metadata": {},
   "outputs": [
    {
     "name": "stdout",
     "output_type": "stream",
     "text": [
      "258.58440074568523\n",
      "0.6 0.3443155332594437 0.6556844667405564\n",
      "0.21778588058327203 0.1788375806089664\n",
      "0.6 0.6\n"
     ]
    }
   ],
   "source": [
    "# Exempel Ö3\n",
    "#A och B bildar regulär lösning med zw=4.3 kJ/mol, oberoende av temperaturen.\n",
    "#a) Beräkna den kritiska temperaturen för att ha två vätskefaser.\n",
    "#b) Vi blandar 2 mol A och 3 mol B och kyler lösningen till 250 K. Beskriv systemet.\n",
    "\n",
    "zw=4.3e3\n",
    "Tc=zw/(2*R)\n",
    "print(Tc)\n",
    "\n",
    "#b)\n",
    "nA=2\n",
    "nB=3\n",
    "T=250\n",
    "chi=zw/R/T\n",
    "x1,=fsolve(lambda x: log(x/(1-x))+chi*(1-2*x), 0.01)\n",
    "x2=1-x1\n",
    "x0=nB/(nA+nB)\n",
    "print(x0,x1,x2)\n",
    "n1n2=(x2-x0)/(x0-x1)   #kvoten n1/n2\n",
    "partn1=n1n2/(n1n2+1)   #andelen n1\n",
    "print(n1n2,partn1)\n",
    "x0check=partn1*x1+(1-partn1)*x2   #Dubbelkolla så att totalsammansättningen är rätt\n",
    "print(x0,x0check)"
   ]
  },
  {
   "cell_type": "code",
   "execution_count": null,
   "metadata": {},
   "outputs": [],
   "source": []
  }
 ],
 "metadata": {
  "kernelspec": {
   "display_name": "Python 3",
   "language": "python",
   "name": "python3"
  },
  "language_info": {
   "codemirror_mode": {
    "name": "ipython",
    "version": 3
   },
   "file_extension": ".py",
   "mimetype": "text/x-python",
   "name": "python",
   "nbconvert_exporter": "python",
   "pygments_lexer": "ipython3",
   "version": "3.7.2"
  }
 },
 "nbformat": 4,
 "nbformat_minor": 2
}
