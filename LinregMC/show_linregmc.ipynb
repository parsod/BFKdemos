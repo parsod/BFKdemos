{
 "cells": [
  {
   "cell_type": "code",
   "execution_count": 1,
   "metadata": {},
   "outputs": [],
   "source": [
    "from math import *\n",
    "from numpy import *\n",
    "import matplotlib.pyplot as plt"
   ]
  },
  {
   "cell_type": "code",
   "execution_count": 2,
   "metadata": {},
   "outputs": [],
   "source": [
    "#This is just to have everything at place.\n",
    "#When you do it, you will import these functions from a library instead\n",
    "\n",
    "import numpy as np\n",
    "from numpy.matlib import repmat,randn\n",
    "\n",
    "def createmcdata(yinp,ysiginp,nmc,distrib):\n",
    "\n",
    "\t#      function ymc = createmcdata(y,ysig,nmc,distrib)\n",
    "\t#\n",
    "\t# Creates a matrix ymc of nmc vectors with the mean values of y but with\n",
    "\t# added random noise of standard deviation ysig. \n",
    "\t#\n",
    "\t#     y       data vector\n",
    "\t#     ysig    standard deviation vector (same length as y)\n",
    "\t#     nmc     number of Monte Carlo copies\n",
    "\t#     distrib 'norm' gives normal distribution\n",
    "\t#             'lognorm' give lognormal distribution (useful for example \n",
    "\t#             if negative results are unphysical)\n",
    "\t#\n",
    "\t#\n",
    "\t#  You might want to initialize the random number generator in forehand.\n",
    "\t#\n",
    "\n",
    "\tyinp = np.asarray(yinp)\n",
    "\tysiginp = np.asarray(ysiginp)\n",
    "\tif np.size(yinp) != np.size(ysiginp):\n",
    "\t\traise Exception('y and ysig must be vectors of the same length.')\n",
    "\n",
    "\tn=np.size(yinp)\n",
    "\ty=yinp.reshape((1,n))\n",
    "\tysig=ysiginp.reshape((1,n))\n",
    "\tif distrib.lower() in ('norm' ,'normal'):\n",
    "\t\t\n",
    "\t\treturn np.array(repmat(y,nmc,1)) + np.array(repmat(ysig,nmc,1))*np.array(randn(nmc,n))\n",
    "\telif  distrib.lower() in ('lognorm','lognormal'):\n",
    "\t\t\tmu = np.log(y**2/np.sqrt(ysig**2+y**2))  # mu of lognormal dist\n",
    "\t\t\tsigma = np.sqrt(np.log(ysig**2/y**2+1))  # sigma of lognormal dist\n",
    "\t\t\treturn np.exp(np.array(randn(nmc,n))*np.array(repmat(sigma,nmc,1)) + np.array(repmat(mu,nmc,1)))\n",
    "\telse:\n",
    "\t\traise Exception('Distribution named \"' + distrib + '\" is not recognized.')\n",
    "\n",
    "\n",
    "\n",
    "def mclinreg(xinp, yinp, level):\n",
    "\t#This is a weighted-fit version (similar to MATLAB linregmc) that only handles linear fits\n",
    "    #Performs linear fitting ax+b=y with error analysis \n",
    "    #using a Monte Carlo approach.\n",
    "    \n",
    "    #Input arguments:\n",
    "    #  x : a NX x N matrix: the NX data sets of x values (N data points)\n",
    "    #  y : a NY x N matrix: the NY data sets of y values (N data points)\n",
    "    #      NX and NY need not be the same. In particular one may use a\n",
    "    #      single data set (without added noise) for one of them.\n",
    "    #      The number of fits equals max(NX,NY) and if there are less data\n",
    "    #      sets for one of x or y, they are just cyclically reused.\n",
    "    #  level : the confidence level for the returned confidence interval\n",
    "    #          (must be between 0.5 and 1.0)\n",
    "    #Return values:\n",
    "    #  Returns four arrays, each of length n+1, containing the\n",
    "    #  statistical analysis of the distribution of the fitted\n",
    "    #  parameters:\n",
    "    #  pmean : average value of each parameter (can be used as the result)\n",
    "    #  psig  : standard deviation of each parameter\n",
    "    #  plow  : low confidence bound for each parameter\n",
    "    #  phigh : high confidence bound for each parameter\n",
    "    #  pchi  : probability of chi>chi0\n",
    "\t\n",
    "\n",
    "    if np.ndim(xinp) == 1:\n",
    "        x=xinp.reshape((1,np.size(xinp)))\n",
    "    else:\n",
    "        x= xinp\n",
    "    if np.ndim(yinp) == 1:\n",
    "        y=yinp.reshape((1,np.size(yinp)))\n",
    "    else:\n",
    "        y=yinp\n",
    "    if np.size(x,1) != np.size(y,1):\n",
    "        raise Exception('Number of columns in x and y must be equal')\n",
    "    if level>1 or level<0.5:\n",
    "        raise Exception('Illegal confidence level')\n",
    "    N=np.size(x,1)\n",
    "    n=1 #always linear fit\n",
    "\n",
    "\t#Perform single fit to get the base chi2 value\n",
    "    xs=np.median(x, axis=0)\n",
    "    ys=np.median(y, axis=0)   #Reproduces original data points independent of distribution\n",
    "    sig=np.std(x, axis=0)+np.std(y, axis=0)  #This only makes sense if either x or y is a single set\n",
    "\n",
    "    Xt=np.stack((xs, np.ones(N)), axis=1)\n",
    "    X=np.stack((xs/sig, np.ones(N)/sig), axis=1)\n",
    "    Y=ys/sig\n",
    "    pp=np.linalg.lstsq(X,Y, rcond=None)[0]    \n",
    "    chi2 = sum((Y - np.matmul(X,pp))**2)\n",
    "    subtract=ys - np.matmul(Xt,pp)\n",
    "\n",
    "\n",
    "    xn=np.size(x,0)\n",
    "    yn=np.size(y,0)\n",
    "    nmc = max(xn,yn)\n",
    "    pmc = np.zeros((nmc,n+1)) \n",
    "    chi2mc = np.zeros(nmc)\n",
    "    for i in range(nmc):\n",
    "        X=np.stack((x[i%xn,:]/sig,np.ones(N)/sig),axis=1)\n",
    "        Y=(y[i%yn,:]-subtract)/sig\n",
    "        p=np.linalg.lstsq(X,Y, rcond=None)[0] \n",
    "        pmc[i,:]=p\n",
    "        chi2mc[i] = sum((Y - np.matmul(X,p))**2)\n",
    "    #Statistisk analys av parametrarna i pmc: \n",
    "    # medelvärde, standardavvikelse och konfidensintervall\n",
    "    #(t.ex. första och sista ventilen om nivån är 95%)\n",
    "    pmean = np.mean(pmc,0)    #This is not used, as the single fit (pp) is returned for compatibility with the MATLAB script\n",
    "    psig = np.std(pmc,0)\n",
    "    plow = np.zeros(n+1)\n",
    "    phigh = np.zeros(n+1)\n",
    "    for j in range(n+1):\n",
    "        tmp=np.sort(pmc[:,j])\n",
    "        plow[j]=tmp[round(max(1,0.5*(1-level)*nmc))-1]\n",
    "        phigh[j]=tmp[round(min(nmc,1-0.5*(1-level)*nmc))-1]\n",
    "    \n",
    "    #Compute pchi2\n",
    "    pchi2=sum(chi2mc>chi2)/nmc\n",
    "\n",
    "    return (pp,psig,plow,phigh,pchi2,pmc)\n",
    "\n"
   ]
  },
  {
   "cell_type": "code",
   "execution_count": 3,
   "metadata": {},
   "outputs": [
    {
     "data": {
      "image/png": "[encoded data removed]",
      "text/plain": [
       "<Figure size 432x288 with 1 Axes>"
      ]
     },
     "metadata": {
      "needs_background": "light"
     },
     "output_type": "display_data"
    },
    {
     "data": {
      "image/png": "[encoded data removed]",
      "text/plain": [
       "<Figure size 432x288 with 1 Axes>"
      ]
     },
     "metadata": {
      "needs_background": "light"
     },
     "output_type": "display_data"
    },
    {
     "data": {
      "image/png": "[encoded data removed]",
      "text/plain": [
       "<Figure size 432x288 with 1 Axes>"
      ]
     },
     "metadata": {
      "needs_background": "light"
     },
     "output_type": "display_data"
    }
   ],
   "source": [
    "x = createmcdata(15,2,10000,'norm')\n",
    "y = createmcdata(3,2,10000,'lognorm')\n",
    "\n",
    "plt.hist(x,50)\n",
    "plt.show()\n",
    "plt.hist(y,50)\n",
    "plt.show()\n",
    "\n",
    "# Determine standard deviation of product\n",
    "f = x*y\n",
    "sig_f = std(f)\n",
    "\n",
    "# Plot histogram of product\n",
    "plt.hist(f,50)\n",
    "plt.show()"
   ]
  },
  {
   "cell_type": "code",
   "execution_count": 4,
   "metadata": {},
   "outputs": [
    {
     "name": "stdout",
     "output_type": "stream",
     "text": [
      "[[1.         0.99910355]\n",
      " [0.99910355 1.        ]]\n"
     ]
    },
    {
     "data": {
      "image/png": "[encoded data removed]",
      "text/plain": [
       "<Figure size 432x288 with 1 Axes>"
      ]
     },
     "metadata": {
      "needs_background": "light"
     },
     "output_type": "display_data"
    },
    {
     "name": "stdout",
     "output_type": "stream",
     "text": [
      "[5.33308 1.20218] [5.33308 1.20218]\n"
     ]
    }
   ],
   "source": [
    "#########################\n",
    "# Linear regression part\n",
    "#########################\n",
    "\n",
    "# Create data for linear regression\n",
    "x = array([1, 2, 3, 4, 5])\n",
    "y = array([6.9331, 11.588, 16.953, 22.281, 28.252])\n",
    "ysig = array([0.3, 0.2, 0.1, 0.1, 0.5])\n",
    "\n",
    "# Plot it\n",
    "plt.errorbar(x,y,yerr=ysig,fmt='o')\n",
    "\n",
    "# Calculate correlation matrix\n",
    "print(corrcoef(x, y))\n",
    "\n",
    "# Linear regression (not weighted)\n",
    "p = polyfit(x,y,1)\n",
    "limx = array([0, 6])\n",
    "plt.plot(limx,polyval(p,limx),'b-')\n",
    "plt.show()\n",
    "\n",
    "#Alternative to polyfit\n",
    "X = hstack((x.reshape((len(x),1)),ones((len(x),1))))\n",
    "pp = np.linalg.lstsq(X,y, rcond=None)[0]\n",
    "\n",
    "print(p,pp)   # (gives same fit)\n",
    "\n",
    "\n"
   ]
  },
  {
   "cell_type": "code",
   "execution_count": 5,
   "metadata": {},
   "outputs": [],
   "source": [
    "# Weighted fit with Monte Carlo estimated errors\n",
    "y_mc=createmcdata(y,ysig,10000,'norm')\n",
    "(pp,psig,plow,phigh,pchi2,pmc) = mclinreg(x,y_mc,0.95)\n"
   ]
  },
  {
   "cell_type": "code",
   "execution_count": 6,
   "metadata": {},
   "outputs": [
    {
     "data": {
      "image/png": "[encoded data removed]",
      "text/plain": [
       "<Figure size 432x288 with 1 Axes>"
      ]
     },
     "metadata": {
      "needs_background": "light"
     },
     "output_type": "display_data"
    }
   ],
   "source": [
    "# Visualize result: Show 10 of the 10000 fits\n",
    "\n",
    "plt.errorbar(x,y,fmt='bo',yerr=ysig,capsize=5)\n",
    "for i in range(10):\n",
    "    plt.plot(limx,polyval(pmc[i,:],limx),'r-')\n",
    "plt.xlabel('x')\n",
    "plt.ylabel('y')\n",
    "plt.show()\n",
    "\n"
   ]
  },
  {
   "cell_type": "code",
   "execution_count": 7,
   "metadata": {},
   "outputs": [
    {
     "data": {
      "image/png": "[encoded data removed]",
      "text/plain": [
       "<Figure size 432x288 with 1 Axes>"
      ]
     },
     "metadata": {
      "needs_background": "light"
     },
     "output_type": "display_data"
    },
    {
     "data": {
      "image/png": "[encoded data removed]",
      "text/plain": [
       "<Figure size 432x288 with 1 Axes>"
      ]
     },
     "metadata": {
      "needs_background": "light"
     },
     "output_type": "display_data"
    }
   ],
   "source": [
    "#Visualize results: Show distribution of a and b values, \n",
    "# and their standard deviation (red error bar) and\n",
    "# confidence interval (black lines)\n",
    "\n",
    "plt.figure(1)\n",
    "plt.hist(pmc[:,0], bins=50)\n",
    "plt.errorbar(pp[0],300,xerr=psig[0],fmt='ro',capsize=5)\n",
    "plt.plot(array([plow[0],plow[0]]),array([0,200]),'k-')\n",
    "plt.plot(array([phigh[0],phigh[0]]),array([0,200]),'k-')\n",
    "plt.xlabel('a')\n",
    "plt.ylabel('frequency')\n",
    "plt.show()\n",
    "\n",
    "plt.figure(2)\n",
    "plt.hist(pmc[:,1], bins=50)\n",
    "plt.errorbar(pp[1],300,xerr=psig[1],fmt='ro',capsize=5)\n",
    "plt.plot(array([plow[1],plow[1]]),array([0,200]),'k-')\n",
    "plt.plot(array([phigh[1],phigh[1]]),array([0,200]),'k-')\n",
    "\n",
    "plt.xlabel('b')\n",
    "plt.ylabel('frequency')\n",
    "\n",
    "\n",
    "plt.show()\n",
    "\n"
   ]
  },
  {
   "cell_type": "code",
   "execution_count": 8,
   "metadata": {},
   "outputs": [
    {
     "name": "stdout",
     "output_type": "stream",
     "text": [
      "Confidence limits on slope: 5.118134552059227 5.418193468280763\n",
      "Confidence limits on intercept: 0.6978711376835329 1.6993146658849796\n",
      "Uncertainty (stdev) of extrapolated y value: 0.29437781437513455\n"
     ]
    },
    {
     "data": {
      "text/plain": [
       "[<matplotlib.lines.Line2D at 0x7f9e164321d0>]"
      ]
     },
     "execution_count": 8,
     "metadata": {},
     "output_type": "execute_result"
    },
    {
     "data": {
      "image/png": "[encoded data removed]",
      "text/plain": [
       "<Figure size 432x288 with 1 Axes>"
      ]
     },
     "metadata": {
      "needs_background": "light"
     },
     "output_type": "display_data"
    }
   ],
   "source": [
    "print(\"Confidence limits on slope:\", plow[0], phigh[0])\n",
    "print(\"Confidence limits on intercept:\", plow[1], phigh[1])\n",
    "\n",
    "\n",
    "# Extrapolation\n",
    "xextr = 7     #array([[2.5, 7]])\n",
    "yextr = p[0]*xextr + p[1]\n",
    "\n",
    "# Error of extrapolation\n",
    "# std dev\n",
    "yextr_sig = std(pmc[:,0]*xextr + pmc[:,1])\n",
    "print(\"Uncertainty (stdev) of extrapolated y value:\", yextr_sig)\n",
    "# or error on chosen conf level \n",
    "#not implemented yet\n",
    "\n",
    "# Plot extrapolated points\n",
    "plt.errorbar(xextr,yextr,yerr=yextr_sig,fmt='ro')\n",
    "xlong = linspace(0,7,300);\n",
    "plt.plot(xlong,polyval(p,xlong),'r-')"
   ]
  },
  {
   "cell_type": "code",
   "execution_count": null,
   "metadata": {},
   "outputs": [],
   "source": []
  }
 ],
 "metadata": {
  "kernelspec": {
   "display_name": "Python 3",
   "language": "python",
   "name": "python3"
  },
  "language_info": {
   "codemirror_mode": {
    "name": "ipython",
    "version": 3
   },
   "file_extension": ".py",
   "mimetype": "text/x-python",
   "name": "python",
   "nbconvert_exporter": "python",
   "pygments_lexer": "ipython3",
   "version": "3.7.2"
  }
 },
 "nbformat": 4,
 "nbformat_minor": 2
}
